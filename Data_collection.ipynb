{
 "cells": [
  {
   "cell_type": "code",
   "execution_count": 10,
   "id": "0811aedc",
   "metadata": {},
   "outputs": [],
   "source": [
    "import snscrape.modules.twitter as sntwitter\n",
    "import pandas as pd\n",
    "from datetime import datetime, timedelta\n",
    "\n",
    "# Define the coordinates of the city and the radius to search within\n",
    "def dataframe(query):\n",
    " city_coordinates = {\n",
    "    \"Jacksonville\": \"30.3321848,-81.655651\",\n",
    "    \"Miami\": \"25.7889689,-80.2264393\",\n",
    "    \"Tampa\": \"27.9477595,-82.458444\",\n",
    "    \"Orlando\": \"28.5383355,-81.3792365\",\n",
    "    \"St. Petersburg\": \"27.7676008,-82.6402915\",\n",
    "    \"Hialeah\": \"25.8575963,-80.2781057\",\n",
    "    \"Tallahassee\": \"30.4382559,-84.2807329\",\n",
    "    \"Port St. Lucie\": \"27.2776168,-80.3881221\",\n",
    "    \"Fort Lauderdale\": \"26.1224386,-80.1373174\",\n",
    "    \"Cape Coral\": \"26.5628537,-81.9495336\",\n",
    "    \"Pembroke Pines\": \"26.007765,-80.2962555\",\n",
    "    \"Hollywood\": \"26.0112014,-80.1494901\",\n",
    "    \"Miramar\": \"25.9860762,-80.3035602\",\n",
    "    \"Gainesville\": \"29.6516344,-82.3248262\",\n",
    "    \"Coral Springs\": \"26.271192,-80.2706044\",\n",
    "    \"Miami Gardens\": \"25.9420377,-80.2456045\",\n",
    "    \"Clearwater\": \"27.9658533,-82.8001026\",\n",
    "    \"Palm Bay\": \"28.0344621,-80.5886646\",\n",
    "    \"Pompano Beach\": \"26.2378597,-80.1247667\",\n",
    "    \"West Palm Beach\": \"26.7153424,-80.0533746\",\n",
    "    \"Lakeland\": \"28.0516368,-81.9549877\",\n",
    "    \"Davie\": \"26.0764783,-80.2521157\",\n",
    "    \"Miami Beach\": \"25.8120356,-80.1393513\",\n",
    "    \"Plantation\": \"26.1275862,-80.2331047\",\n",
    "    \"Sunrise\": \"26.1551249,-80.311198\",\n",
    "    \"Boca Raton\": \"26.3683064,-80.1048684\",\n",
    "    \"Brandon\": \"27.9094674,-82.7873244\",\n",
    "    \"Deltona\": \"28.9005446,-81.2636738\",\n",
    "    \"Boynton Beach\": \"26.5317866,-80.0905465\",\n",
    "    \"Lauderhill\": \"26.1403635,-80.2133808\",\n",
    "    \"Weston\": \"26.1003654,-80.3997748\",\n",
    "    \"Kissimmee\": \"28.2927585,-81.407571\",\n",
    "    \"Daytona Beach\": \"29.2108147,-81.0228331\",\n",
    "    \"North Port\": \"27.044224,-82.2359254\",\n",
    "    \"Titusville\": \"28.6122187,-80.8075537\",\n",
    "    \"Deerfield Beach\": \"26.3184123,-80.0997657\",\n",
    "    \"Palm Coast\": \"29.5389609,-81.2236879\",\n",
    "    \"Sarasota\": \"27.3364347,-82.5306527\",\n",
    "    \"Sanford\": \"28.8005456,-81.2736535\",\n",
    "    \"Bradenton\": \"27.488217 ,-82.577743\",\n",
    "    \"Sanford\": \"28.8005456,-81.2736535\",\n",
    "    \"Melbourne\": \"28.0836269,-80.6081089\",\n",
    "    \"Plant City\": \"28.0186322,-82.128842\",\n",
    "    \"New Smyrna Beach\": \"29.0258191,-80.9269984\",\n",
    "    \"Aventura\": \"25.9564818,-80.1392121\",\n",
    "    \"Winter Springs\": \"28.6985951,-81.3085716\",\n",
    "    \"Sebastian\": \"27.8085029,-80.4703861\",\n",
    "    \"Palmetto Bay\": \"25.6301466,-80.31923\",\n",
    "    \"St. Augustine\": \"29.901244,-81.3124341\",\n",
    "    \"Safety Harbor\": \"28.0095431,-82.6968298\",\n",
    "    \"Lake Mary\": \"28.7571224,-81.339552\",\n",
    "    \"West Melbourne\": \"28.0718704,-80.6533749\",\n",
    "    \"Sweetwater\": \"25.763797,-80.3732247\",\n",
    "    \"South Miami\": \"25.7020866,-80.2972569\",\n",
    "    \"Punta Gorda\": \"26.9297847,-82.0453668\",\n",
    "    \"Orange City\": \"28.9442612,-81.2967067\",\n",
    "    \"Maitland\": \"28.6253477,-81.3677728\",\n",
    "    \"Lantana\": \"26.5867357,-80.0528188\",\n",
    "    \"Marco Island\": \"25.9395837,-81.7071652\",\n",
    "    \"Fernandina Beach\": \"30.669682,-81.4625923\",\n",
    "    \"Lake City\": \"30.189899,-82.639289\"}\n",
    "\n",
    "    \n",
    "  \n",
    "\n",
    " radius = '30km'\n",
    "\n",
    " # Define the search query parameters\n",
    " search_words = query\n",
    " start_date = datetime(2022, 9, 23)\n",
    " end_date = datetime(2022, 9, 30)\n",
    "\n",
    " # Create an empty list to store the tweets\n",
    " tweets = []\n",
    "\n",
    " # Loop over each city and search for tweets within the specified radius\n",
    " for city, coordinates in city_coordinates.items():\n",
    "    # Define the search query\n",
    "    query = f'{search_words} near:\"{coordinates}\" within:{radius} since:{start_date.strftime(\"%Y-%m-%d\")} until:{end_date.strftime(\"%Y-%m-%d\")}'\n",
    "\n",
    "     # Execute the query and append the results to the tweets list\n",
    "    for tweet in sntwitter.TwitterSearchScraper(query).get_items():\n",
    "        tweets.append([city, tweet.date, tweet.content,tweet.user.username])\n",
    "\n",
    " # Convert the list of tweets to a pandas DataFrame\n",
    " df = pd.DataFrame(tweets, columns=['City', 'Date', 'Text','Username'])\n",
    " return df   \n",
    "\n"
   ]
  },
  {
   "cell_type": "code",
   "execution_count": 11,
   "id": "7cf70784",
   "metadata": {},
   "outputs": [
    {
     "name": "stderr",
     "output_type": "stream",
     "text": [
      "C:\\Users\\vasuk\\AppData\\Local\\Temp\\ipykernel_26284\\3918865406.py:90: DeprecatedFeatureWarning: content is deprecated, use rawContent instead\n",
      "  tweets.append([city, tweet.date, tweet.content,tweet.user.username])\n"
     ]
    }
   ],
   "source": [
    "df_1 = dataframe(\"weather\")"
   ]
  },
  {
   "cell_type": "code",
   "execution_count": 13,
   "id": "dd806665",
   "metadata": {},
   "outputs": [
    {
     "name": "stderr",
     "output_type": "stream",
     "text": [
      "C:\\Users\\vasuk\\AppData\\Local\\Temp\\ipykernel_26284\\3918865406.py:90: DeprecatedFeatureWarning: content is deprecated, use rawContent instead\n",
      "  tweets.append([city, tweet.date, tweet.content,tweet.user.username])\n",
      "C:\\Users\\vasuk\\AppData\\Local\\Temp\\ipykernel_26284\\3918865406.py:90: DeprecatedFeatureWarning: content is deprecated, use rawContent instead\n",
      "  tweets.append([city, tweet.date, tweet.content,tweet.user.username])\n"
     ]
    }
   ],
   "source": [
    "\n",
    "df_3 = dataframe(\"storm\")\n",
    "df_4 = dataframe(\"outage\")"
   ]
  },
  {
   "cell_type": "code",
   "execution_count": 18,
   "id": "c3bbf147",
   "metadata": {},
   "outputs": [
    {
     "name": "stderr",
     "output_type": "stream",
     "text": [
      "C:\\Users\\vasuk\\AppData\\Local\\Temp\\ipykernel_26284\\3918865406.py:90: DeprecatedFeatureWarning: content is deprecated, use rawContent instead\n",
      "  tweets.append([city, tweet.date, tweet.content,tweet.user.username])\n",
      "C:\\Users\\vasuk\\AppData\\Local\\Temp\\ipykernel_26284\\3918865406.py:90: DeprecatedFeatureWarning: content is deprecated, use rawContent instead\n",
      "  tweets.append([city, tweet.date, tweet.content,tweet.user.username])\n"
     ]
    }
   ],
   "source": [
    "df_2 = dataframe(\"hurrican_ian\")\n",
    "df_5 = dataframe(\"outage\")"
   ]
  },
  {
   "cell_type": "code",
   "execution_count": 26,
   "id": "e99aebdc",
   "metadata": {},
   "outputs": [
    {
     "name": "stderr",
     "output_type": "stream",
     "text": [
      "C:\\Users\\vasuk\\AppData\\Local\\Temp\\ipykernel_26284\\3918865406.py:90: DeprecatedFeatureWarning: content is deprecated, use rawContent instead\n",
      "  tweets.append([city, tweet.date, tweet.content,tweet.user.username])\n",
      "C:\\Users\\vasuk\\AppData\\Local\\Temp\\ipykernel_26284\\3918865406.py:90: DeprecatedFeatureWarning: content is deprecated, use rawContent instead\n",
      "  tweets.append([city, tweet.date, tweet.content,tweet.user.username])\n",
      "C:\\Users\\vasuk\\AppData\\Local\\Temp\\ipykernel_26284\\3918865406.py:90: DeprecatedFeatureWarning: content is deprecated, use rawContent instead\n",
      "  tweets.append([city, tweet.date, tweet.content,tweet.user.username])\n"
     ]
    }
   ],
   "source": [
    "df_6 = dataframe(\"power out\")\n",
    "df_7 = dataframe(\"power outage\")\n",
    "df_8 = dataframe(\"pwr out\")\n",
    "df_9 = dataframe(\"power failure\")"
   ]
  },
  {
   "cell_type": "code",
   "execution_count": 34,
   "id": "e9a6c394",
   "metadata": {},
   "outputs": [
    {
     "data": {
      "text/plain": [
       "22225"
      ]
     },
     "execution_count": 34,
     "metadata": {},
     "output_type": "execute_result"
    }
   ],
   "source": [
    "len(df_1)+len(df_2)+len(df_3)+len(df_4)+len(df_5)+len(df_6)+len(df_7)+len(df_8)+len(df_9)"
   ]
  },
  {
   "cell_type": "code",
   "execution_count": 38,
   "id": "a30880d0",
   "metadata": {},
   "outputs": [
    {
     "name": "stderr",
     "output_type": "stream",
     "text": [
      "C:\\Users\\vasuk\\AppData\\Local\\Temp\\ipykernel_26284\\3918865406.py:90: DeprecatedFeatureWarning: content is deprecated, use rawContent instead\n",
      "  tweets.append([city, tweet.date, tweet.content,tweet.user.username])\n",
      "C:\\Users\\vasuk\\AppData\\Local\\Temp\\ipykernel_26284\\3918865406.py:90: DeprecatedFeatureWarning: content is deprecated, use rawContent instead\n",
      "  tweets.append([city, tweet.date, tweet.content,tweet.user.username])\n",
      "C:\\Users\\vasuk\\AppData\\Local\\Temp\\ipykernel_26284\\3918865406.py:90: DeprecatedFeatureWarning: content is deprecated, use rawContent instead\n",
      "  tweets.append([city, tweet.date, tweet.content,tweet.user.username])\n"
     ]
    }
   ],
   "source": [
    "df_10 = dataframe(\"hurricane\")\n",
    "df_11 = dataframe(\"ian\")\n",
    "df_12 = dataframe(\"lost power\")"
   ]
  },
  {
   "cell_type": "code",
   "execution_count": 43,
   "id": "2b339e9c",
   "metadata": {},
   "outputs": [
    {
     "data": {
      "text/plain": [
       "20502"
      ]
     },
     "execution_count": 43,
     "metadata": {},
     "output_type": "execute_result"
    }
   ],
   "source": [
    "len(df_11)"
   ]
  },
  {
   "cell_type": "code",
   "execution_count": null,
   "id": "71301455",
   "metadata": {},
   "outputs": [],
   "source": [
    "# saving all the datframes into a single file "
   ]
  },
  {
   "cell_type": "code",
   "execution_count": 44,
   "id": "5ae0abcc",
   "metadata": {},
   "outputs": [],
   "source": [
    "frames = [df_1,df_2,df_3,df_4,df_5,df_6,df_7,df_8,df_9,df_10,df_11,df_12]\n",
    "data = pd.concat(frames)\n"
   ]
  },
  {
   "cell_type": "code",
   "execution_count": 45,
   "id": "e1f418db",
   "metadata": {},
   "outputs": [
    {
     "data": {
      "text/html": [
       "<div>\n",
       "<style scoped>\n",
       "    .dataframe tbody tr th:only-of-type {\n",
       "        vertical-align: middle;\n",
       "    }\n",
       "\n",
       "    .dataframe tbody tr th {\n",
       "        vertical-align: top;\n",
       "    }\n",
       "\n",
       "    .dataframe thead th {\n",
       "        text-align: right;\n",
       "    }\n",
       "</style>\n",
       "<table border=\"1\" class=\"dataframe\">\n",
       "  <thead>\n",
       "    <tr style=\"text-align: right;\">\n",
       "      <th></th>\n",
       "      <th>City</th>\n",
       "      <th>Date</th>\n",
       "      <th>Text</th>\n",
       "      <th>Username</th>\n",
       "    </tr>\n",
       "  </thead>\n",
       "  <tbody>\n",
       "    <tr>\n",
       "      <th>0</th>\n",
       "      <td>Jacksonville</td>\n",
       "      <td>2022-09-29 21:13:58+00:00</td>\n",
       "      <td>Windows open in this weather babyyyy</td>\n",
       "      <td>TheBigGuy904</td>\n",
       "    </tr>\n",
       "    <tr>\n",
       "      <th>1</th>\n",
       "      <td>Jacksonville</td>\n",
       "      <td>2022-09-29 16:58:32+00:00</td>\n",
       "      <td>Thank you for all the coverage of #Ida @Keitha...</td>\n",
       "      <td>PatrickFon12</td>\n",
       "    </tr>\n",
       "    <tr>\n",
       "      <th>2</th>\n",
       "      <td>Jacksonville</td>\n",
       "      <td>2022-09-29 13:57:51+00:00</td>\n",
       "      <td>Due to weather at the Beach being more intense...</td>\n",
       "      <td>904Donatos</td>\n",
       "    </tr>\n",
       "    <tr>\n",
       "      <th>3</th>\n",
       "      <td>Jacksonville</td>\n",
       "      <td>2022-09-29 10:20:57+00:00</td>\n",
       "      <td>Haggai 2  God’s message was “be strong &amp;amp; c...</td>\n",
       "      <td>J19foundation</td>\n",
       "    </tr>\n",
       "    <tr>\n",
       "      <th>4</th>\n",
       "      <td>Jacksonville</td>\n",
       "      <td>2022-09-29 01:04:01+00:00</td>\n",
       "      <td>Thanks for bringing us the latest weather upda...</td>\n",
       "      <td>PatrickFon12</td>\n",
       "    </tr>\n",
       "  </tbody>\n",
       "</table>\n",
       "</div>"
      ],
      "text/plain": [
       "           City                      Date  \\\n",
       "0  Jacksonville 2022-09-29 21:13:58+00:00   \n",
       "1  Jacksonville 2022-09-29 16:58:32+00:00   \n",
       "2  Jacksonville 2022-09-29 13:57:51+00:00   \n",
       "3  Jacksonville 2022-09-29 10:20:57+00:00   \n",
       "4  Jacksonville 2022-09-29 01:04:01+00:00   \n",
       "\n",
       "                                                Text       Username  \n",
       "0               Windows open in this weather babyyyy   TheBigGuy904  \n",
       "1  Thank you for all the coverage of #Ida @Keitha...   PatrickFon12  \n",
       "2  Due to weather at the Beach being more intense...     904Donatos  \n",
       "3  Haggai 2  God’s message was “be strong &amp; c...  J19foundation  \n",
       "4  Thanks for bringing us the latest weather upda...   PatrickFon12  "
      ]
     },
     "execution_count": 45,
     "metadata": {},
     "output_type": "execute_result"
    }
   ],
   "source": [
    "data.head()"
   ]
  },
  {
   "cell_type": "code",
   "execution_count": 46,
   "id": "7c9091cd",
   "metadata": {},
   "outputs": [
    {
     "data": {
      "text/plain": [
       "70888"
      ]
     },
     "execution_count": 46,
     "metadata": {},
     "output_type": "execute_result"
    }
   ],
   "source": [
    "len(data)"
   ]
  },
  {
   "cell_type": "code",
   "execution_count": 48,
   "id": "422649ec",
   "metadata": {},
   "outputs": [],
   "source": [
    "# saving into a csv file\n",
    "data.to_csv('C:\\\\Users\\\\vasuk\\\\OneDrive\\\\Desktop\\\\Data\\\\CNST\\\\group38_data.csv')"
   ]
  },
  {
   "cell_type": "code",
   "execution_count": null,
   "id": "6a797945",
   "metadata": {},
   "outputs": [],
   "source": []
  }
 ],
 "metadata": {
  "kernelspec": {
   "display_name": "Python 3 (ipykernel)",
   "language": "python",
   "name": "python3"
  },
  "language_info": {
   "codemirror_mode": {
    "name": "ipython",
    "version": 3
   },
   "file_extension": ".py",
   "mimetype": "text/x-python",
   "name": "python",
   "nbconvert_exporter": "python",
   "pygments_lexer": "ipython3",
   "version": "3.10.10"
  }
 },
 "nbformat": 4,
 "nbformat_minor": 5
}
